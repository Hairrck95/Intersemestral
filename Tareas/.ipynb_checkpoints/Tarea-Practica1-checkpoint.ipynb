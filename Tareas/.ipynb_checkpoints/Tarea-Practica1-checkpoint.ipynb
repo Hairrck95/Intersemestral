{
 "cells": [
  {
   "cell_type": "markdown",
   "metadata": {},
   "source": [
    "<h1 align=\"center\">Física Computacional.</h1>\n",
    "<h1 align=\"center\">Semestre 2015-2</h1>\n",
    "\n",
    "<h2>Sergio A. Alcalá Corona </h2> \n",
    "\n",
    "---\n",
    "### Rodrigo Vega Vilchis\n",
    "### Daniel Rojo Mata\n",
    "---"
   ]
  },
  {
   "cell_type": "markdown",
   "metadata": {},
   "source": [
    "<h1 align=\"center\">Programación para la física computacional</h1> \n",
    "\n",
    "## Práctica 1.  Programación básica\n",
    "\n",
    "\n",
    "### Programación básica para la física\n",
    "\n",
    "---"
   ]
  },
  {
   "cell_type": "markdown",
   "metadata": {},
   "source": [
    "### **EJERCICIOS**:\n",
    "\n",
    "$\\;$\n",
    "\n",
    "#### **1. Altitud de un satélite**: se va a lanzar un satélite en una órbita circular alrededor de la Tierra de modo que orbite el planeta una vez cada $T$ segundos."
   ]
  },
  {
   "cell_type": "markdown",
   "metadata": {},
   "source": [
    "#### **(a)** Demuestre que la altitud $h$ sobre la superficie de la Tierra que debe tener el satélite es:\n",
    "\n",
    "<h3 align=\"center\">$h = \\biggl( {GMT^2\\over4\\pi^2} \\biggr)^{1/3} - R$,</h3> \n",
    "\n",
    "donde $G = 6,67 × 10^{−11} m^3 kg^{−1}s^{−2}$ es la constante gravitatoria de Newton, $M = 5,97 ×\n",
    "1024 kg$ es la masa de la Tierra, y $R = 6371 km$ es su radio.\n",
    "\n",
    "\n"
   ]
  },
  {
   "cell_type": "markdown",
   "metadata": {},
   "source": [
    "**Solucion:**\n",
    "\n",
    "### Si suponemos que una orbita circular la 2da ley de newton nos dice lo siguiente:\n",
    "\n",
    "<h3 aling=\"center\">$ {GMm\\over\\ R^2}  = mw^2 R$</h3>\n",
    "\n",
    "donde sabemos que la velocidad angular es $w=\\frac{2\\pi}{T}$, sustituyendo tenemos que:\n",
    "\n",
    "<h3 align=\"center\">$\\frac{GMm}{R^2} = \\frac{4\\pi^2mR}{T^2}$,</h3> \n",
    "tal que si despejamos R entonces:\n",
    "\n",
    "<h3 align=\"center\">$R_0 = (\\frac{GMT^2}{4\\pi})^{1/3}$,</h3> \n",
    "\n",
    "Ahora si tomamos la altura del satelite respecto a la de la tierra como $h = R_0 - R$, donde R es el radio de la tierra y $R_0$ la distancia del centro de la tierra al satelite\n",
    "\n",
    "<h3 align=\"center\">$h = (\\frac{GMT^2}{4\\pi})^{1/3}-R$</h3> "
   ]
  },
  {
   "cell_type": "markdown",
   "metadata": {},
   "source": [
    "#### **(b)** Escribe un programa que le pida al usuario que ingrese el valor deseado de $T$ y luego calcule e imprima la altura correcta en metros.\n"
   ]
  },
  {
   "cell_type": "code",
   "execution_count": 13,
   "metadata": {},
   "outputs": [
    {
     "name": "stdout",
     "output_type": "stream",
     "text": [
      "%%% Este es un programa que calcula la altitud de un satelite en funcion de el periodo de orbita %%%\n"
     ]
    },
    {
     "name": "stdin",
     "output_type": "stream",
     "text": [
      "Dame el tiempo de orbita deseado para el satélite en segundos: 86400\n"
     ]
    },
    {
     "name": "stdout",
     "output_type": "stream",
     "text": [
      "La altitud para una orbita de 86400.0 segundos es: 187921394.81775272m \n"
     ]
    }
   ],
   "source": [
    "from math import pi\n",
    "G = 6.67e-11 #constante de gravitacion de newton\n",
    "M = 5.97e24 #Masa de la tierra en kilogramos \n",
    "R = 6371*1000 #Radio de la tierra en metros\n",
    "\n",
    "#Crearemos la Funcion que nos dara la altitud\n",
    "\n",
    "def alt(t):\n",
    "    return (G*M*(t**2) / 4*(pi**2))**(1/3) - R\n",
    "\n",
    "\n",
    "print('%%% Este es un programa que calcula la altitud de un satelite en funcion de el periodo de orbita %%%')\n",
    "t = float(input('Dame el tiempo de orbita deseado para el satélite en segundos:'))\n",
    "\n",
    "H = alt(t)\n",
    "\n",
    "print(f'La altitud para una orbita de {t} segundos es: {H}m ')\n"
   ]
  },
  {
   "cell_type": "markdown",
   "metadata": {},
   "source": [
    "#### **(c)** Utiliza tu programa para calcular las altitudes de los satélites que orbitan la Tierra una vez al día (la llamada *órbita \"geosincrónica\"*), una vez cada **90 minutos** y una vez cada **45 minutos**. \n",
    "#### ¿Qué concluyes del último de estos cálculos?"
   ]
  },
  {
   "cell_type": "code",
   "execution_count": 14,
   "metadata": {},
   "outputs": [
    {
     "name": "stdout",
     "output_type": "stream",
     "text": [
      "Los resultados para estos casos son los siguientes:\n",
      "La Altura del satélite en orbita geosincronica es: 187921394.81775272 m\n",
      "La altura del satélite en orbita de 90 min es: 24228134.758171532 m\n",
      "La altura del satélite en orbita de 45 min es: 12905246.99519509 m\n"
     ]
    }
   ],
   "source": [
    "print('Los resultados para estos casos son los siguientes:')\n",
    "# 24 h a segundos son 86400 s \n",
    "# 90 min a segundos son 5400 s\n",
    "# 45 min a segundos son 2700 s\n",
    "print('La Altura del satélite en orbita geosincronica es:',alt(86400),'m')\n",
    "print('La altura del satélite en orbita de 90 min es:',alt(5400),'m')\n",
    "print('La altura del satélite en orbita de 45 min es:',alt(2700),'m')\n"
   ]
  },
  {
   "cell_type": "code",
   "execution_count": 9,
   "metadata": {},
   "outputs": [
    {
     "data": {
      "text/plain": [
       "2700"
      ]
     },
     "execution_count": 9,
     "metadata": {},
     "output_type": "execute_result"
    }
   ],
   "source": [
    "45*60"
   ]
  },
  {
   "cell_type": "markdown",
   "metadata": {},
   "source": [
    "#### **2. Relatividad especial:** Una nave espacial viaja desde la Tierra en línea recta a una velocidad relativista $v$ a otro planeta a $x$ años luz de distancia. \n",
    "\n",
    "#### Escribe un programa que le pida al usuario el valor de $x$ y la velocidad $v$ como una fracción de la velocidad de la luz $c$, y que imprima el tiempo en años que tarda la nave espacial en llegar a su destino\n",
    "\n",
    "#### **(a)** en el marco de reposo de un observador en la Tierra y"
   ]
  },
  {
   "cell_type": "code",
   "execution_count": 1,
   "metadata": {},
   "outputs": [
    {
     "name": "stdin",
     "output_type": "stream",
     "text": [
      "Ingrese la distancia al planeta en años luz: 10\n",
      "Ingrese la velocidad como fracción de c: 0.99999\n"
     ]
    },
    {
     "name": "stdout",
     "output_type": "stream",
     "text": [
      "La nave tarda: 10.000100001000009 años en llegar a su destino\n"
     ]
    }
   ],
   "source": [
    "#en un marco en reposo tenemos que t=x/v\n",
    "\n",
    "def rel(x,v):\n",
    "    return x/v\n",
    "\n",
    "x_o = float(input(\"Ingrese la distancia al planeta en años luz:\"))\n",
    "v_o = float(input(\"Ingrese la velocidad como fracción de c:\"))\n",
    "\n",
    "print('La nave tarda:',rel(x_o,v_o),'años en llegar a su destino')"
   ]
  },
  {
   "cell_type": "markdown",
   "metadata": {},
   "source": [
    "#### **(b)** como lo percibiría un pasajero a bordo de la nave. "
   ]
  },
  {
   "cell_type": "code",
   "execution_count": 4,
   "metadata": {},
   "outputs": [
    {
     "name": "stdin",
     "output_type": "stream",
     "text": [
      "Ingrese la distancia al planeta en años luz: 10\n",
      "Ingrese la velocidad como fracción de c: 0.99999\n"
     ]
    },
    {
     "name": "stdout",
     "output_type": "stream",
     "text": [
      "La nave tarda: 0.044721694963295776 años en llegar a su destino desde la perspectiva de alguien en la nave\n"
     ]
    }
   ],
   "source": [
    "#para un pasajero abordo existen efectos cinematicos relativistas \n",
    "from math import *\n",
    "def rel2(x,v):\n",
    "    g = 1 / sqrt(1 - v**2) #gamma de lorentz\n",
    "    return (x/v)/g\n",
    "\n",
    "x_o = float(input(\"Ingrese la distancia al planeta en años luz:\"))\n",
    "v_o = float(input(\"Ingrese la velocidad como fracción de c:\"))\n",
    "\n",
    "print('La nave tarda:',rel2(x_o,v_o),'años en llegar a su destino desde la perspectiva de alguien en la nave')"
   ]
  },
  {
   "cell_type": "markdown",
   "metadata": {},
   "source": [
    "#### Usa tu programa para calcular las respuestas para un planeta a 10 años luz de distancia con $v = 0.99c$"
   ]
  },
  {
   "cell_type": "code",
   "execution_count": 5,
   "metadata": {},
   "outputs": [
    {
     "name": "stdout",
     "output_type": "stream",
     "text": [
      "La nave tarda: 10.1010101010101 años en llegar a su destino\n"
     ]
    }
   ],
   "source": [
    "#Para un sistema de referencia en reposo, montado sobre la tierra tenemos\n",
    "print('La nave tarda:',rel(10,0.99),'años en llegar a su destino')"
   ]
  },
  {
   "cell_type": "code",
   "execution_count": 6,
   "metadata": {},
   "outputs": [
    {
     "name": "stdout",
     "output_type": "stream",
     "text": [
      "La nave tarda: 1.424922826228878 años en llegar a su destino desde la perspectiva de alguien en la nave\n"
     ]
    }
   ],
   "source": [
    "#Para un sistema de referencia montado en la nave\n",
    "print('La nave tarda:',rel2(10,0.99),'años en llegar a su destino desde la perspectiva de alguien en la nave')"
   ]
  },
  {
   "cell_type": "markdown",
   "metadata": {},
   "source": [
    "#### **3. Órbitas planetarias**: En el espacio, la órbita de un cuerpo alrededor de otro (como un planeta alrededor del Sol), no necesariamente es circular. En general, toma la forma de una elipse, con el cuerpo a veces más cerca y otras más lejos. Si tenemos la distancia $\\ell_1$ de máxima aproximación de un planeta al Sol (su \\textit{perihelio}), y su velocidad lineal $v_1$ en el perihelio, entonces cualquier otra propiedad de la órbita se puede calcular a partir de estas dos cantidades de la siguiente manera:\n",
    "\n",
    "#### **(a)** La segunda ley de Kepler nos dice que la distancia $\\ell_2$ y la velocidad $v_2$ del planeta en su punto más distante, o \\textit{afelio}, satisfacen que $\\ell_2 v_2 = \\ell_1 v_1$.  Al mismo tiempo, la energía total, cinética más la gravitatoria, de un planeta con velocidad $v$ y distancia $r$ del Sol está dada por:\n",
    "\n",
    "<h3 align=\"center\">$E = \\frac{1}{2} m v^2 - G {mM\\over r}$,</h3>\n",
    "       \n",
    "#### donde $m$ es la masa del planeta, $M=1.9891\\times10^{30}\\,$kg es la masa del Sol y $G=6.6738\\times10^{-11}\\,\\mathrm{m^3\\,kg^{-1}\\,s^{-2}}$ es la constante gravitatoria de Newton. Dado que la energía debe conservarse, demuestre que $v_2$ es la raíz más pequeña de la ecuación cuadrática:\n",
    "\n",
    "<h3 align=\"center\">$v_2^2 - {2GM\\over v_1\\ell_1} v_2 - \\biggl[ v_1^2 - {2GM\\over\\ell_1} \\biggr] = 0$.</h3>\n",
    "\n",
    "#### Una vez que tenemos $v_2$ podemos calcular $\\ell_2$  usando la relación $\\ell_2 = \\ell_1 v_1/v_2$.\n"
   ]
  },
  {
   "cell_type": "markdown",
   "metadata": {},
   "source": [
    "### SOLUCION:"
   ]
  },
  {
   "cell_type": "markdown",
   "metadata": {},
   "source": [
    "Tomando la ecuacion cuadrática anterior podemos obtener las raices con la formula general dejandonos:\n",
    "\n",
    "<h3 align=\"center\">$v_{2} =\\frac{GM}{v_{1} \\ell _{1}} \\pm \\sqrt{\\left(\\frac{GM}{v_{1} \\ell _{1}}\\right)^{2} +v_{1}^{2} -\\frac{2GM}{\\ell _{1}}}$,</h3>\n",
    "\n",
    "además es claro que siempre se cumple que que $v_2<v_1$ ya que son las velocidades en su punto mas distante y mas cercano por definicion; además en general $v_1<\\frac{GM}{v_{1} \\ell _{1}}$ por lo que entonces bajo la solucion a $v_2$ debe cumplirse que la raíz correcta debe ser la más pequeña, pues la positiva haría que $v_{2}$ fuera mayor que $v_{1}$.\n",
    "\n"
   ]
  },
  {
   "cell_type": "code",
   "execution_count": null,
   "metadata": {},
   "outputs": [],
   "source": []
  },
  {
   "cell_type": "markdown",
   "metadata": {},
   "source": [
    "#### **(b)**  Dados los valores de $v_1$, $\\ell_1$, y $\\ell_2$; otros parámetros de la órbita se obtienen mediante fórmulas simples que pueden derivarse de las leyes de Kepler y del hecho de que la órbita es una elipse:\n",
    "\n",
    "<h4 align=\"center\"><b>Semieje mayor</b>: $\\; \\; \\; a = \\frac{1}{2}(\\ell_1+\\ell_2),$</h3>\n",
    "\n",
    "<h4 align=\"center\"><b>Semieje menor</b>: $\\; \\; b = \\sqrt{\\ell_1\\ell_2},$</h3>\n",
    "\n",
    "<h4 align=\"center\"><b>Período orbital</b>: $\\; \\; T = {2\\pi ab\\over\\ell_1 v_1},$</h3>\n",
    "\n",
    "<h4 align=\"center\"><b>Excentricidad orbital</b>: $\\; \\; e = {\\ell_2-\\ell_1\\over\\ell_2+\\ell_1},$</h3>\n",
    "\n",
    "#### Escribe un programa que le pida al usuario que ingrese la distancia al Sol y la velocidad en el perihelio; para que calcule e imprima las cantidades $\\ell_2$, $v_2$, $T$ y $e$.\n"
   ]
  },
  {
   "cell_type": "code",
   "execution_count": 20,
   "metadata": {},
   "outputs": [
    {
     "name": "stdout",
     "output_type": "stream",
     "text": [
      "Este es un programa que calcula el período orbital, la excentricidad, la velocidad y distancia en el afelio\n"
     ]
    },
    {
     "name": "stdin",
     "output_type": "stream",
     "text": [
      "Dame la distancia al sol en el perihelio: 1.4710e11\n",
      "Dame la velocidad en el afelio: 3.0287e4\n"
     ]
    },
    {
     "name": "stdout",
     "output_type": "stream",
     "text": [
      "Distancia en el afelio: 147100869218.8513 m\n",
      "Velocidad en el afelio: 30286.821034155073 m/s\n",
      "Período orbital: 30516790.046992652 s\n",
      "Excentricidad orbital 2.9545081005224486e-06\n"
     ]
    }
   ],
   "source": [
    "from math import *\n",
    "#definimos las constantes que vamos a necesitar\n",
    "\n",
    "G = 6.67e-11  #m^3 kg^{−1}s^{−2}\n",
    "M = 5.977e24 #kg\n",
    "def vel(v_1,l_1):\n",
    "    #primero verificamos que el discriminante de la raiz no es negativo\n",
    "    d = (((G*M)/(v_1*l_1))**2) + v_1**2 - ((2*G*M)/l_1)\n",
    "    s = (G*M)/(v_1*l_1)\n",
    "    if d < 0:\n",
    "        return None\n",
    "\n",
    "    v_2 = -(s - sqrt(d))\n",
    "    l_2 = (l_1*v_1)/v_2\n",
    "    a = 0.5*(l_1 + l_2)\n",
    "    b = (l_1*l_2)**(1/2)\n",
    "    T = (2*pi*a*b)/(l_1*v_1)\n",
    "    e = (l_2 - l_1)/(l_2 + l_1)\n",
    "    return v_2, l_2, a, b, T, e\n",
    "\n",
    "        \n",
    "#ahora escribimos la interaccion con el ususario\n",
    "\n",
    "print('Este es un programa que calcula el período orbital, la excentricidad, la velocidad y distancia en el afelio')\n",
    "\n",
    "l_1 =float(input('Dame la distancia al sol en el perihelio:'))\n",
    "v_1 = float(input('Dame la velocidad en el afelio:'))\n",
    "\n",
    "#guardamos los resultados en una variable\n",
    "para = vel(v_1,l_1)\n",
    "if para:\n",
    "    v_2, l_2, a, b, T, e = vel(v_1,l_1)\n",
    "    print(\"Distancia en el afelio:\",l_2,\"m\")\n",
    "    print(\"Velocidad en el afelio:\",v_2,\"m/s\")\n",
    "    print(\"Período orbital:\",T,\"s\")\n",
    "    print(\"Excentricidad orbital\",e)\n",
    "else:\n",
    "    print('No se puede calcular')\n",
    "        \n",
    "        "
   ]
  },
  {
   "cell_type": "markdown",
   "metadata": {},
   "source": [
    "#### **(c)** Prueba tu programa haciendo que calcule las propiedades de las órbitas de la Tierra (para las cuales $\\ell_1=1.4710\\times10^{11}\\,$m y $v_1=3.0287\\times10^4\\,\\mathrm{m\\,s^{-1}}$)  y del cometa Halley ($\\ell_1=8.7830\\times10^{10}\\,$m y $v_1=5.4529\\times10^4\\,\\mathrm{m\\,s^{-1}}$). Entre otras cosas, deberías encontrar que el período orbital de la Tierra es de un año y el del cometa Halley es de unos 76 años."
   ]
  },
  {
   "cell_type": "code",
   "execution_count": 22,
   "metadata": {},
   "outputs": [
    {
     "name": "stdout",
     "output_type": "stream",
     "text": [
      "Distancia en el afelio: 30287.000000036845 m\n",
      "Velocidad en el afelio: 147099999999.82104 m/s\n",
      "Período orbital: 1.2936698395566258e-06 s\n",
      "Excentricidad orbital 6.082716901344217e-13\n"
     ]
    }
   ],
   "source": [
    "#Para la tierra\n",
    "prmtrs_trr = vel(1.4710e11,3.0287e4)\n",
    "if prmtrs_trr:\n",
    "    v_2, l_2, a, b, T, e = prmtrs_trr\n",
    "    print(\"Distancia en el afelio:\",l_2,\"m\")\n",
    "    print(\"Velocidad en el afelio:\",v_2,\"m/s\")\n",
    "    print(\"Período orbital:\",T,\"s\")\n",
    "    print(\"Excentricidad orbital\",e)\n",
    "else:\n",
    "    print('No se puede calcular')"
   ]
  },
  {
   "cell_type": "code",
   "execution_count": 23,
   "metadata": {},
   "outputs": [
    {
     "name": "stdout",
     "output_type": "stream",
     "text": [
      "Distancia en el afelio: 54529.000000103355 m\n",
      "Velocidad en el afelio: 87829999999.83353 m/s\n",
      "Período orbital: 3.90089732000279e-06 s\n",
      "Excentricidad orbital 9.47706522303523e-13\n"
     ]
    }
   ],
   "source": [
    "#Para el cometa Halley\n",
    "prmtrs_trr = vel(8.7830e10,5.4529e4)\n",
    "if prmtrs_trr:\n",
    "    v_2, l_2, a, b, T, e = prmtrs_trr\n",
    "    print(\"Distancia en el afelio:\",l_2,\"m\")\n",
    "    print(\"Velocidad en el afelio:\",v_2,\"m/s\")\n",
    "    print(\"Período orbital:\",T,\"s\")\n",
    "    print(\"Excentricidad orbital\",e)\n",
    "else:\n",
    "    print('No se puede calcular')"
   ]
  },
  {
   "cell_type": "markdown",
   "metadata": {},
   "source": [
    "#### **4. La fórmula semiempírica de la masa (FSM)** En física nuclear, la fórmula de Weizsäcker (conocida tambien como fórmula semiempírica) sirve para evaluar la masa y otras propiedades de un nucleo atómico; y está basada parcialmente en mediciones empíricas. En particular la fórmula se usa para cálcular la énergıa de *enlace nuclear aproximada* B, de un núcleo atómico con número atómico Z y numero de masa A:\n",
    "\n",
    "<h4 align=\"center\">$B=a_{1} A-a_{2} A^{2/3} -a_{3}\\frac{Z^{2}}{A^{1/3}} -a_{4}\\frac{( A-2Z)^{2}}{A} +\\frac{a_{5}}{A^{1/2}}$</h4>\n",
    "\n",
    "#### donde, en unidades de millones de electron-volts, las constantes son $a_1 = 15,8$, $a_2 =18,3$, $a_3 = 0,714$, $a_4 = 23,2$ y\n",
    "\n",
    "<h4 align=\"center\">$a_{5} =\\begin{cases}\n",
    "0 & si\\ A\\ es\\ impar,\\\\\n",
    "12,0 & si\\ A\\ y\\ Z\\ son\\ pares\\ ( ambos) ,\\\\\n",
    "-12,0 & si\\ A\\ es\\ par\\ y\\ Z\\ impar\n",
    "\\end{cases}$</h4>"
   ]
  },
  {
   "cell_type": "markdown",
   "metadata": {},
   "source": [
    "#### **a)** Describe un programa que tome como entrada los valores de A y Z, e imprima la energía de enlace B para el atomo correspondiente. Usa tu programa para encontrar la energía de enlace de un átomo con $A=58$ y $Z=28$ (Hint: La respuesta correcta es alrededor de los $490$ MeV)."
   ]
  },
  {
   "cell_type": "code",
   "execution_count": 40,
   "metadata": {},
   "outputs": [],
   "source": [
    "#Para esto necesitamos hacer una funcion, nota que a_5 depende de si es par o impar \n",
    "\n",
    "def ena(A,Z):\n",
    "    a5 = 0\n",
    "    a1 = 15.8\n",
    "    a2 = 18.3\n",
    "    a3 = 0.714\n",
    "    a4 = 23.2\n",
    "\n",
    "    #crearemos las condiciones para a5\n",
    "    if A%2==0 and Z%2 == 0: #ambos pares\n",
    "        a5 = 12.0\n",
    "    elif A%2 == 0 and Z%2 != 0: #A par Z impar\n",
    "        a5 = -12.0\n",
    "    else: #A impar\n",
    "        a5 = 0\n",
    "    \n",
    "\n",
    "    #generamos la funcion de energia de enlace nuclear aproximada\n",
    "\n",
    "    B = (a1*A) - (a2*(A)**(2/3)) - (a3*((Z**2)/(A)**(1/3))) - a4*((A-2*Z)**2 / A) + a5/(A)**(1/2)\n",
    "\n",
    "    return B"
   ]
  },
  {
   "cell_type": "code",
   "execution_count": 45,
   "metadata": {},
   "outputs": [
    {
     "name": "stdout",
     "output_type": "stream",
     "text": [
      "La energia de enlace nuclear aproximada para A = 58 y Z = 28 es: 497.5620206224374 MeV.\n"
     ]
    }
   ],
   "source": [
    "A = 58\n",
    "Z = 28\n",
    "\n",
    "print('La energia de enlace nuclear aproximada para A =',A,'y Z =',Z,'es:',ena(A,Z),'MeV.')"
   ]
  },
  {
   "cell_type": "markdown",
   "metadata": {},
   "source": [
    "#### **b)** Modifica el programa del inciso anterior, para escribir una segunda versión que imprima no la energía de enlace total B, sino la energía de unión por nucleón, que es B/A."
   ]
  },
  {
   "cell_type": "code",
   "execution_count": null,
   "metadata": {},
   "outputs": [],
   "source": [
    "def eun(A,Z):\n",
    "    a5 = 0\n",
    "    a1 = 15.8\n",
    "    a2 = 18.3\n",
    "    a3 = 0.714\n",
    "    a4 = 23.2\n",
    "\n",
    "    #crearemos las condiciones para a5\n",
    "    if A%2==0 and Z%2 == 0: #ambos pares\n",
    "        a5 = 12.0\n",
    "    elif A%2 == 0 and Z%2 != 0: #A par Z impar\n",
    "        a5 = -12.0\n",
    "    else: #A impar\n",
    "        a5 = 0\n",
    "    \n",
    "\n",
    "    #generamos la funcion de energia de enlace nuclear aproximada\n",
    "\n",
    "    B = (a1*A) - (a2*(A)**(2/3)) - (a3*((Z**2)/(A)**(1/3))) - a4*((A-2*Z)**2 / A) + a5/(A)**(1/2)\n",
    "\n",
    "    return B/A"
   ]
  },
  {
   "cell_type": "code",
   "execution_count": 25,
   "metadata": {},
   "outputs": [
    {
     "name": "stdout",
     "output_type": "stream",
     "text": [
      "12\n"
     ]
    }
   ],
   "source": [
    "A = float(input('Dame el número de masa \"A\":'))\n",
    "Z = float(input('Dame el número atómico \"Z\":'))\n"
   ]
  },
  {
   "cell_type": "markdown",
   "metadata": {},
   "source": [
    "#### **c)** Escribe una tercera version del programa para que tome como entrada solo un valor del número atómico Z y luego pase por todos los valores de A desde $A=Z$ hasta $A=3Z$, para encontrar el que tiene la mayor energía de enlace por nucleón. Este es el núcleo más estable con el número atómico dado. Haz que tu programa imprima el valor de A para este núcleo más estable y el valor de la energía de enlace por nucleón."
   ]
  },
  {
   "cell_type": "code",
   "execution_count": 70,
   "metadata": {},
   "outputs": [],
   "source": [
    "def ena2(Z):\n",
    "    a5 = 0\n",
    "    a1 = 15.8\n",
    "    a2 = 18.3\n",
    "    a3 = 0.714\n",
    "    a4 = 23.2\n",
    "\n",
    "    #necesitamos crear un rango dentro de lo que correra A y guardaremos lo que buscamos\n",
    "    Ener = []\n",
    "    As = []\n",
    "    for A in range(Z,3*Z + 1):\n",
    "        As.append(A)\n",
    "        #crearemos las condiciones para a5\n",
    "        if A%2==0 and Z%2 == 0: #ambos pares\n",
    "            a5 = 12.0\n",
    "        elif A%2 == 0 and Z%2 != 0: #A par Z impar\n",
    "            a5 = -12.0\n",
    "        else: #A impar\n",
    "            a5 = 0\n",
    "\n",
    "        B = (a1*A) - (a2*(A)**(2/3)) - (a3*((Z**2)/(A)**(1/3))) - a4*((A-2*Z)**2 / A) + a5/(A)**(1/2)\n",
    "\n",
    "        Ener.append(B/A)\n",
    "\n",
    "    M = max(Ener)\n",
    "\n",
    "    for i in range(len(Ener)):\n",
    "        if Ener[i] == M:\n",
    "            a = i #guardamos la posicion donde esta la M en la lista\n",
    "    A = As[a]\n",
    "\n",
    "    return M,A"
   ]
  },
  {
   "cell_type": "code",
   "execution_count": 71,
   "metadata": {},
   "outputs": [
    {
     "name": "stdout",
     "output_type": "stream",
     "text": [
      "(8.70245768367189, 62)\n"
     ]
    }
   ],
   "source": [
    "print(ena2(28))"
   ]
  },
  {
   "cell_type": "markdown",
   "metadata": {},
   "source": [
    "#### **d)** Finalmente, escribe una cuarta version del programa que, en lugar de tomar Z como entrada, se ejecute a traves de todos los valores de Z de 1 a 100 e imprima el valor mas estable de A para cada uno. ¿A que valor de Z se produce la energía de enlace maxima por nucleón? (La respuesta correcta, en la vida real, es Z = 28, que corresponde al Níquel)."
   ]
  },
  {
   "cell_type": "code",
   "execution_count": 79,
   "metadata": {},
   "outputs": [
    {
     "name": "stdout",
     "output_type": "stream",
     "text": [
      "Z = 8.70245768367189 y la Energia maxima = 28 que en efecto corresponde al niquel.\n"
     ]
    }
   ],
   "source": [
    "import numpy as np\n",
    "def EnergiaEnlace4():\n",
    "\n",
    "    a1 = 15.8\n",
    "    a2 = 18.3\n",
    "    a3 = 0.714\n",
    "    a4 = 23.2\n",
    "    a5 = 0\n",
    "\n",
    "    Emax = []\n",
    "    # Zmax = []\n",
    "\n",
    "    for Z in range(1,101):\n",
    "\n",
    "        Energias = []\n",
    "        \n",
    "        for A in range(Z,3*Z + 1):    \n",
    "            \n",
    "            if (A % 2 == 0) and (Z % 2 == 0):\n",
    "                a5 = 12\n",
    "            elif (A % 2 == 0) and (Z % 2 != 0):\n",
    "                a5 = -12 \n",
    "            elif (A % 2 != 0):\n",
    "                a5 = 0\n",
    "        \n",
    "            B = a1*A - a2*(A**(2/3)) - a3*((Z**2)/(A**(1/3))) - a4*(((A-2*Z)**2)/A)+ a5/(A**(1/2))    \n",
    "            Energias.append(B/A)  \n",
    "            \n",
    "        maximo = max(Energias)\n",
    "\n",
    "        Emax.append(maximo)\n",
    "        # Zmax.append(Z)\n",
    "    ElMasMax = max(Emax)\n",
    "    ElZmasMax = np.argmax(Emax)\n",
    "\n",
    "    return ElMasMax,int(ElZmasMax+1)\n",
    "Z, E = EnergiaEnlace4()\n",
    "print(\"Z =\",Z,\"y la Energia maxima =\",E,'que en efecto corresponde al niquel.')"
   ]
  },
  {
   "cell_type": "markdown",
   "metadata": {},
   "source": [
    "#### **2. La constante de Madelung**\n",
    "### En física de la materia condensada, la constante de Madelung da el potencial electrico total que siente un atomo en un sólido; y depende de las cargas de los otros átomos cercanos y de sus ubicaciones.\n",
    "\n",
    "#### Por ejemplo, el cristal de cloruro de sodio solido (la sal de mesa), tiene átomos dispuestos en una red cúbica, con átomos de sodio y cloro alternados, teniendo los de sodio una carga positiva $+e$ y los de cloro una negativa $−e$, (donde $e$ es la carga del electron). Si etiquetamos cada posicion en la red con tres coordenadas enteras $(i, j, k)$, entonces los átomos de sodio caen en posiciones donde $i + j + k$ es par, y los atomos de cloro en posiciones donde $i + j + k$ es impar.\n",
    "#### Consideremos un átomo de sodio en el origen, i.e. $i = j = k = 0$, y calculemos la constante de Madelung. Si el espaciado de los átomos en la red es $a$, entonces la distancia desde el origen al atomo en la posición ́$(i, j, k)$ es:\n",
    "\n",
    "<h4 align=\"center\">$\\sqrt{( ia)^{2} +( ja)^{2} +( ka)^{2}} =a\\sqrt{i^{2} +j^{2} +k^{2}}$,</h4>\n",
    "\n",
    "#### y el potencial en el origen creado por tal átomo es:\n",
    "\n",
    "<h4 align=\"center\">$V( i,j,k) =\\pm \\frac{e}{4\\pi \\epsilon _{0}\\sqrt{i^{2} +j^{2} +k^{2}}}$,</h4>\n",
    "\n",
    "#### siendo $\\epsilon _0$ la permitividad del vacío y el signo de la expresion se toma dependiendo de si $i + j + k$ es par o impar. Así entonces, el potencial total que siente el atomo de sodio es la suma de esta cantidad sobre todos los demas átomos. Supongamos una caja cúbica alrededor del átomo de sodio en el origen, con L atomos en todas las direcciones, entonces:\n",
    "\n",
    "<h4 align=\"center\">$V_{total} =\\sum _{ \\begin{array}{l}\n",
    "i,j,k=-L\\\\\n",
    "i,j,k\\neq 0\n",
    "\\end{array}}^{L} V( i,j,k) =\\frac{e}{4\\pi \\epsilon _{0} a} M$,</h4>\n",
    "\n",
    "#### donde M es la constante de Madelung (al menos aproximadamente).\n",
    "#### Tecnicamente, la constante de Madelung es el valor de $M$ cuando $L\\rightarrow \\infty $, pero se puede obtener una buena aproximacion simplemente usando un valor grande de L. Escribe un programa para calcular e imprimir la constante de Madelung para el cloruro de sodio. Utiliza un valor de L tan grande como puedas, sin dejar que tu programa se ejecute en un tiempo razonable (un minuto o menos)."
   ]
  },
  {
   "cell_type": "code",
   "execution_count": 81,
   "metadata": {},
   "outputs": [],
   "source": [
    "def Cte_Madelung(L):\n",
    "    M = 0\n",
    "    for i in range(-L, L+1):\n",
    "        for j in range(-L, L+1):\n",
    "            for k in range(-L, L+1):\n",
    "                if i == 0 and j == 0 and k == 0:\n",
    "                    continue\n",
    "                d = np.sqrt(i**2 + j**2 + k**2)\n",
    "                signo = (-1) ** (i + j + k)\n",
    "                M = M + (signo / d)\n",
    "    return M"
   ]
  },
  {
   "cell_type": "code",
   "execution_count": 82,
   "metadata": {},
   "outputs": [
    {
     "name": "stdin",
     "output_type": "stream",
     "text": [
      "Ingrese el valor de L para calcular la constante de Madelung: 50\n"
     ]
    },
    {
     "name": "stdout",
     "output_type": "stream",
     "text": [
      "La constante de Madelung para L =  50 es: -1.7361319160639026\n"
     ]
    }
   ],
   "source": [
    "L = int(input(\"Ingrese el valor de L para calcular la constante de Madelung:\"))\n",
    "print(\"La constante de Madelung para L = \",L,\"es:\",Cte_Madelung(L))"
   ]
  },
  {
   "cell_type": "markdown",
   "metadata": {},
   "source": [
    "#### **3. Coeficientes binomiales** El coeficiente binomial $\\begin{pmatrix}n\\\\k\\end{pmatrix}$ es un numero entero igual a:\n",
    "\n",
    "<h4 align=\"center\">$\\begin{pmatrix}\n",
    "n\\\\\n",
    "k\n",
    "\\end{pmatrix} =\\frac{n!}{k!( n-k) !} =\\frac{n\\times ( n-1) \\times ( n-2) \\times \\dotsc \\times ( n-k+1)}{1\\times 2\\times \\dotsc \\times k}$</h4>\n",
    "\n",
    "#### donde $k\\geq 1$, o bien $\\begin{pmatrix}n\\\\0\\end{pmatrix} =1$ cuando $k=0$."
   ]
  },
  {
   "cell_type": "markdown",
   "metadata": {},
   "source": [
    "#### **a)** Utiliza esta fórmula para escribir una funcion llamada binomial(n,k) (o como tu quieras) que calcule el coeficiente binomial para un n y k dados. Asegurate de que tu función devuelva la respuesta en forma de un número entero (no flotante) y proporcione el valor correcto de 1 para el caso en que k = 0."
   ]
  },
  {
   "cell_type": "code",
   "execution_count": 96,
   "metadata": {},
   "outputs": [],
   "source": [
    "#primero creamos una funcion factorial\n",
    "def fac(n):\n",
    "    m = 1\n",
    "    if n == 0:\n",
    "        m=1\n",
    "    else:\n",
    "        for i in range(1,n+1):\n",
    "            m = m*i\n",
    "    return int(m)"
   ]
  },
  {
   "cell_type": "code",
   "execution_count": 102,
   "metadata": {},
   "outputs": [],
   "source": [
    "def bi(n,k):\n",
    "    m = fac(n)\n",
    "    l = fac(k)\n",
    "    if n-k < 0:\n",
    "        print('No se puede factoriales de numeros negativos')\n",
    "        return None\n",
    "    else:\n",
    "        j = fac(n-k)\n",
    "\n",
    "    B = m / (l*j)\n",
    "    return int(B)"
   ]
  },
  {
   "cell_type": "code",
   "execution_count": 103,
   "metadata": {},
   "outputs": [
    {
     "name": "stdout",
     "output_type": "stream",
     "text": [
      "No se puede factoriales de numeros negativos\n"
     ]
    }
   ],
   "source": [
    "bi(5,10)"
   ]
  },
  {
   "cell_type": "code",
   "execution_count": 104,
   "metadata": {},
   "outputs": [
    {
     "data": {
      "text/plain": [
       "1"
      ]
     },
     "execution_count": 104,
     "metadata": {},
     "output_type": "execute_result"
    }
   ],
   "source": [
    "bi(30,0)"
   ]
  },
  {
   "cell_type": "code",
   "execution_count": 120,
   "metadata": {},
   "outputs": [
    {
     "data": {
      "text/plain": [
       "1"
      ]
     },
     "execution_count": 120,
     "metadata": {},
     "output_type": "execute_result"
    }
   ],
   "source": [
    "bi(2,2)"
   ]
  },
  {
   "cell_type": "markdown",
   "metadata": {},
   "source": [
    "#### **(b)** Usando tu función, escribe un programa que imprima las primeras $20$ líneas del “triángulo de Pascal’’. La nésima línea del triángulo de Pascal contiene $n + 1$ números, que son los coeficientes $\\begin{pmatrix}n\\\\0\\end{pmatrix}$, $\\begin{pmatrix}n\\\\1\\end{pmatrix}$, y así sucesivamente hasta $\\begin{pmatrix}n\\\\n\\end{pmatrix}$. De tal manera que las primeras líneas son:\n",
    "\n",
    "<h4 align=\"center\">$\\begin{array}{l}\n",
    "11\\\\\n",
    "121\\\\\n",
    "1331\\\\\n",
    "14641\n",
    "\\end{array}$</h4>"
   ]
  },
  {
   "cell_type": "code",
   "execution_count": 124,
   "metadata": {},
   "outputs": [],
   "source": [
    "def t_p(lineas):\n",
    "    lineas = int(lineas)\n",
    "    for n in range(lineas):\n",
    "        linea = []\n",
    "        for k in range(n + 1):\n",
    "            a = bi(n,k)\n",
    "            linea.append(a)\n",
    "        print(linea)\n",
    "    print(\"Esto es el triángulo de pascal con\",lineas,\"lineas\")"
   ]
  },
  {
   "cell_type": "code",
   "execution_count": 125,
   "metadata": {},
   "outputs": [
    {
     "name": "stdout",
     "output_type": "stream",
     "text": [
      "[1]\n",
      "[1, 1]\n",
      "[1, 2, 1]\n",
      "[1, 3, 3, 1]\n",
      "[1, 4, 6, 4, 1]\n",
      "[1, 5, 10, 10, 5, 1]\n",
      "[1, 6, 15, 20, 15, 6, 1]\n",
      "[1, 7, 21, 35, 35, 21, 7, 1]\n",
      "[1, 8, 28, 56, 70, 56, 28, 8, 1]\n",
      "[1, 9, 36, 84, 126, 126, 84, 36, 9, 1]\n",
      "[1, 10, 45, 120, 210, 252, 210, 120, 45, 10, 1]\n",
      "[1, 11, 55, 165, 330, 462, 462, 330, 165, 55, 11, 1]\n",
      "[1, 12, 66, 220, 495, 792, 924, 792, 495, 220, 66, 12, 1]\n",
      "[1, 13, 78, 286, 715, 1287, 1716, 1716, 1287, 715, 286, 78, 13, 1]\n",
      "[1, 14, 91, 364, 1001, 2002, 3003, 3432, 3003, 2002, 1001, 364, 91, 14, 1]\n",
      "[1, 15, 105, 455, 1365, 3003, 5005, 6435, 6435, 5005, 3003, 1365, 455, 105, 15, 1]\n",
      "[1, 16, 120, 560, 1820, 4368, 8008, 11440, 12870, 11440, 8008, 4368, 1820, 560, 120, 16, 1]\n",
      "[1, 17, 136, 680, 2380, 6188, 12376, 19448, 24310, 24310, 19448, 12376, 6188, 2380, 680, 136, 17, 1]\n",
      "[1, 18, 153, 816, 3060, 8568, 18564, 31824, 43758, 48620, 43758, 31824, 18564, 8568, 3060, 816, 153, 18, 1]\n",
      "[1, 19, 171, 969, 3876, 11628, 27132, 50388, 75582, 92378, 92378, 75582, 50388, 27132, 11628, 3876, 969, 171, 19, 1]\n",
      "Esto es el triángulo de pascal con 20 lineas\n"
     ]
    }
   ],
   "source": [
    "t_p(20)"
   ]
  },
  {
   "cell_type": "code",
   "execution_count": 128,
   "metadata": {},
   "outputs": [],
   "source": [
    "#l = []\n",
    "#for i in range(20):\n",
    "    \n",
    "    #for j in range(i + 1):\n",
    "        #a = bi(i,j)\n",
    "        #l.append(a)\n",
    "    #print(l)\n",
    "#este no jalo y no entiendo por que"
   ]
  },
  {
   "cell_type": "markdown",
   "metadata": {},
   "source": [
    "#### **(c)** La probabilidad de que para una moneda no sesgada, lanzada $n$ veces, salga águila $k$ veces es:\n",
    "\n",
    "<h4 align=\"center\">$p( k|n) =\\frac{\\begin{pmatrix}\n",
    "n\\\\\n",
    "k\n",
    "\\end{pmatrix}}{2^{n}}$</h4>\n",
    "\n",
    "#### Escribe un programa para calcular:\n",
    "#### **(1)** La probabilidad total de que una moneda lanzada 100 veces, salga águila exactamente 60 veces y\n",
    "#### **(2)** la probabilidad de que salga águila 60 veces o más."
   ]
  },
  {
   "cell_type": "code",
   "execution_count": 135,
   "metadata": {},
   "outputs": [],
   "source": [
    "import math\n",
    "def proba(n,k):\n",
    "    p = bi(n,k) / 2**(n)\n",
    "    return p\n",
    "    "
   ]
  },
  {
   "cell_type": "code",
   "execution_count": 130,
   "metadata": {},
   "outputs": [
    {
     "name": "stdout",
     "output_type": "stream",
     "text": [
      "la probabilidad de que unda moenda lanzada 100, salga aguila 60 veces es: 0.010843866711637987\n"
     ]
    }
   ],
   "source": [
    "print('la probabilidad de que una moneda lanzada 100, salga aguila 60 veces es:',proba(100,60))"
   ]
  },
  {
   "cell_type": "code",
   "execution_count": 145,
   "metadata": {},
   "outputs": [
    {
     "name": "stdout",
     "output_type": "stream",
     "text": [
      "la probabilidad de que una moneda lanzada 100, salga aguila 60 veces o más: 0.028443966820490392\n"
     ]
    }
   ],
   "source": [
    "a = 0\n",
    "for i in range(60,101):\n",
    "    a += proba(100,i)\n",
    "\n",
    "print('la probabilidad de que una moneda lanzada 100, salga aguila 60 veces o más:',a)"
   ]
  },
  {
   "cell_type": "markdown",
   "metadata": {},
   "source": [
    "#### **4. Recursión** Una característica muy útil de las funciones que podemos definir es la recursividad, es decir, la capacidad de una función de llamarse a sí misma. Por ejemplo, considere la siguiente definición del factorial $n!$ de un entero positivo $n$:\n",
    "\n",
    "<h4 align=\"center\">$n!=\\begin{cases}\n",
    "1 & si\\ n=1\\\\\n",
    "n\\times ( n-1) ! & si\\ n >1\n",
    "\\end{cases}$</h4>\n",
    "\n",
    "#### Esto constituye una definición completa del factorial que nos permite calcular el valor de $n!$ para cualquier entero positivo. Podemos emplear esta definición directamente para crear una función para calcular factoriales, como esta (en Python):"
   ]
  },
  {
   "cell_type": "raw",
   "metadata": {},
   "source": [
    "def factorial(n):\n",
    "    if n==1:\n",
    "        return 1\n",
    "    else:\n",
    "        return n*factorial(n-1)"
   ]
  },
  {
   "cell_type": "markdown",
   "metadata": {},
   "source": [
    "#### Nota como si $n$ no es igual a $1$, la funcion se llama a sí misma para calcular el factorial de $n−1$, de tal manera que al pedir \"print(factorial($5$))” el interprete de Python imprimirá correctamente la respuesta $120$."
   ]
  },
  {
   "cell_type": "markdown",
   "metadata": {},
   "source": [
    "#### **(a)** Anteriormente, en clase encontramos los numeros de Catalán ́$C_n$. Si hacemos una pequena modificación, la definición de $C_n$ se puede reescribir de la siguiente forma:\n",
    "\n",
    "<h4 align=\"center\">$C_{n} =\\begin{cases}\n",
    "1 & if\\ n=0\\\\\n",
    "\\frac{4n-2}{n+1} C_{n-1} & if\\ n >0\n",
    "\\end{cases}$</h4>\n",
    "\n",
    "#### Escribe una funcion, usando recursividad, que calcule $Cn$ y utilízala para calcular e imprimir $C_{100}$."
   ]
  },
  {
   "cell_type": "code",
   "execution_count": 147,
   "metadata": {},
   "outputs": [],
   "source": [
    "def cata(n):\n",
    "    if n == 0:\n",
    "        return 1\n",
    "    elif n > 0: \n",
    "        return ((4*n-2)/(n+1))*cata(n-1)\n",
    "    else:\n",
    "        return print('El numero no es valido')\n"
   ]
  },
  {
   "cell_type": "code",
   "execution_count": 152,
   "metadata": {},
   "outputs": [
    {
     "name": "stdout",
     "output_type": "stream",
     "text": [
      "El numero de catalán para n=100 es: 8.965199470901317e+56\n"
     ]
    }
   ],
   "source": [
    "print('El numero de catalán para n=100 es:',cata(100))"
   ]
  },
  {
   "cell_type": "markdown",
   "metadata": {},
   "source": [
    "#### **(b)** Euclides demostro que el máximo común divisor $g(m,n)$ de dos enteros no negativos $m$ y $n$ satisface que:\n",
    "\n",
    "<h4 align=\"center\">$g( m,n) =\\begin{cases}\n",
    "m & si\\ n=0\\\\\n",
    "g( n,m\\bmod n) & si\\ n >0\n",
    "\\end{cases}$</h4>\n",
    "\n",
    "#### Usando esta fórmula escribe una función $g(m,n)$ que emplee recursividad para calcular el máximo común divisor de m y n. Usa tu función para calcular e imprimir el máximo común divisor de $108$ y $192$."
   ]
  },
  {
   "cell_type": "code",
   "execution_count": 153,
   "metadata": {},
   "outputs": [],
   "source": [
    "def mcd(m,n):\n",
    "    m1 = int(m)\n",
    "    n1 = int(n)\n",
    "    if n1 == 0:\n",
    "        return m\n",
    "    elif n1 > 0:\n",
    "        return mcd(n1,m1%n1)\n",
    "    else:\n",
    "        return print('Este numero es negativo')\n",
    "    "
   ]
  },
  {
   "cell_type": "markdown",
   "metadata": {},
   "source": [
    "**Calculamos el máximo común divisor entre $108$ y $192$:**"
   ]
  },
  {
   "cell_type": "code",
   "execution_count": 155,
   "metadata": {},
   "outputs": [
    {
     "data": {
      "text/plain": [
       "12"
      ]
     },
     "execution_count": 155,
     "metadata": {},
     "output_type": "execute_result"
    }
   ],
   "source": [
    "print(\"El máximo común divisor de 108 y 192 es:\",mc(108,192))mcd(108,192)"
   ]
  },
  {
   "cell_type": "code",
   "execution_count": null,
   "metadata": {},
   "outputs": [],
   "source": []
  }
 ],
 "metadata": {
  "@webio": {
   "lastCommId": null,
   "lastKernelId": null
  },
  "kernelspec": {
   "display_name": "Python 3 (ipykernel)",
   "language": "python",
   "name": "python3"
  },
  "language_info": {
   "codemirror_mode": {
    "name": "ipython",
    "version": 3
   },
   "file_extension": ".py",
   "mimetype": "text/x-python",
   "name": "python",
   "nbconvert_exporter": "python",
   "pygments_lexer": "ipython3",
   "version": "3.12.5"
  }
 },
 "nbformat": 4,
 "nbformat_minor": 4
}
