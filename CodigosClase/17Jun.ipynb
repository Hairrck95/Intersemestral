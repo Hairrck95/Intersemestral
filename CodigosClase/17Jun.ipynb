{
 "cells": [
  {
   "cell_type": "code",
   "execution_count": 1,
   "id": "576d5053-af9b-4cbd-896d-ff5426d9a27d",
   "metadata": {},
   "outputs": [],
   "source": [
    "import numpy as np"
   ]
  },
  {
   "cell_type": "code",
   "execution_count": 2,
   "id": "0e01d18e-aa14-4e63-9d1c-5b7667ba3412",
   "metadata": {},
   "outputs": [],
   "source": [
    "datos = [] # palabaras\n",
    "numeros = []  # datos numericos\n",
    "\n",
    "entrada = open(\"datos.dat\", \"r\")    # esto es un buffer\n",
    "for linea in entrada:\n",
    "    datos.append(linea)\n",
    "\n",
    "for dat in datos:\n",
    "    for j in dat.split():    \n",
    "        numeros.append(float(j))\n",
    "numeros = np.array(numeros)"
   ]
  },
  {
   "cell_type": "code",
   "execution_count": 3,
   "id": "c3edf991-f650-44e1-83d3-e326fe3159e3",
   "metadata": {},
   "outputs": [
    {
     "data": {
      "text/plain": [
       "array([0.0000e+00, 8.0000e+00, 1.0000e+00, 2.3000e+01, 2.0000e+00,\n",
       "       4.8000e+01, 3.0000e+00, 8.3000e+01, 4.0000e+00, 1.2800e+02,\n",
       "       5.0000e+00, 1.8300e+02, 6.0000e+00, 2.4800e+02, 7.0000e+00,\n",
       "       3.2300e+02, 8.0000e+00, 4.0800e+02, 9.0000e+00, 5.0300e+02,\n",
       "       1.0000e+01, 6.0800e+02, 1.1000e+01, 7.2300e+02, 1.2000e+01,\n",
       "       8.4800e+02, 1.3000e+01, 9.8300e+02, 1.4000e+01, 1.1280e+03,\n",
       "       1.5000e+01, 1.2830e+03, 1.6000e+01, 1.4480e+03, 1.7000e+01,\n",
       "       1.6230e+03, 1.8000e+01, 1.8080e+03, 1.9000e+01, 2.0030e+03,\n",
       "       2.0000e+01, 2.2080e+03, 2.1000e+01, 2.4230e+03, 2.2000e+01,\n",
       "       2.6480e+03, 2.3000e+01, 2.8830e+03, 2.4000e+01, 3.1280e+03,\n",
       "       2.5000e+01, 3.3830e+03, 2.6000e+01, 3.6480e+03, 2.7000e+01,\n",
       "       3.9230e+03, 2.8000e+01, 4.2080e+03, 2.9000e+01, 4.5030e+03,\n",
       "       3.0000e+01, 4.8080e+03, 3.1000e+01, 5.1230e+03, 3.2000e+01,\n",
       "       5.4480e+03, 3.3000e+01, 5.7830e+03, 3.4000e+01, 6.1280e+03,\n",
       "       3.5000e+01, 6.4830e+03, 3.6000e+01, 6.8480e+03, 3.7000e+01,\n",
       "       7.2230e+03, 3.8000e+01, 7.6080e+03, 3.9000e+01, 8.0030e+03,\n",
       "       4.0000e+01, 8.4080e+03, 4.1000e+01, 8.8230e+03, 4.2000e+01,\n",
       "       9.2480e+03, 4.3000e+01, 9.6830e+03, 4.4000e+01, 1.0128e+04,\n",
       "       4.5000e+01, 1.0583e+04, 4.6000e+01, 1.1048e+04, 4.7000e+01,\n",
       "       1.1523e+04, 4.8000e+01, 1.2008e+04, 4.9000e+01, 1.2503e+04,\n",
       "       5.0000e+01, 1.3008e+04, 5.1000e+01, 1.3523e+04, 5.2000e+01,\n",
       "       1.4048e+04, 5.3000e+01, 1.4583e+04, 5.4000e+01, 1.5128e+04,\n",
       "       5.5000e+01, 1.5683e+04, 5.6000e+01, 1.6248e+04, 5.7000e+01,\n",
       "       1.6823e+04, 5.8000e+01, 1.7408e+04, 5.9000e+01, 1.8003e+04,\n",
       "       6.0000e+01, 1.8608e+04, 6.1000e+01, 1.9223e+04, 6.2000e+01,\n",
       "       1.9848e+04, 6.3000e+01, 2.0483e+04, 6.4000e+01, 2.1128e+04,\n",
       "       6.5000e+01, 2.1783e+04, 6.6000e+01, 2.2448e+04, 6.7000e+01,\n",
       "       2.3123e+04, 6.8000e+01, 2.3808e+04, 6.9000e+01, 2.4503e+04,\n",
       "       7.0000e+01, 2.5208e+04, 7.1000e+01, 2.5923e+04, 7.2000e+01,\n",
       "       2.6648e+04, 7.3000e+01, 2.7383e+04, 7.4000e+01, 2.8128e+04,\n",
       "       7.5000e+01, 2.8883e+04, 7.6000e+01, 2.9648e+04, 7.7000e+01,\n",
       "       3.0423e+04, 7.8000e+01, 3.1208e+04, 7.9000e+01, 3.2003e+04,\n",
       "       8.0000e+01, 3.2808e+04, 8.1000e+01, 3.3623e+04, 8.2000e+01,\n",
       "       3.4448e+04, 8.3000e+01, 3.5283e+04, 8.4000e+01, 3.6128e+04,\n",
       "       8.5000e+01, 3.6983e+04, 8.6000e+01, 3.7848e+04, 8.7000e+01,\n",
       "       3.8723e+04, 8.8000e+01, 3.9608e+04, 8.9000e+01, 4.0503e+04,\n",
       "       9.0000e+01, 4.1408e+04, 9.1000e+01, 4.2323e+04, 9.2000e+01,\n",
       "       4.3248e+04, 9.3000e+01, 4.4183e+04, 9.4000e+01, 4.5128e+04,\n",
       "       9.5000e+01, 4.6083e+04, 9.6000e+01, 4.7048e+04, 9.7000e+01,\n",
       "       4.8023e+04, 9.8000e+01, 4.9008e+04, 9.9000e+01, 5.0003e+04])"
      ]
     },
     "execution_count": 3,
     "metadata": {},
     "output_type": "execute_result"
    }
   ],
   "source": [
    "numeros"
   ]
  },
  {
   "cell_type": "code",
   "execution_count": null,
   "id": "b1ceea49-d76d-4054-b220-55e6597f84a9",
   "metadata": {},
   "outputs": [],
   "source": []
  },
  {
   "cell_type": "code",
   "execution_count": 12,
   "id": "9454db7f-1ac1-47cc-8d2b-d2d3642acd89",
   "metadata": {},
   "outputs": [],
   "source": [
    "datos = [] # palabaras\n",
    "numeros = []  # datos numericos\n",
    "\n",
    "entrada = open(\"datos.dat\", \"r\")    # esto es un buffer\n",
    "for linea in entrada:\n",
    "    datos.append(linea)\n",
    "\n",
    "for i in range(len(datos)):\n",
    "    for j in datos[i].split():    \n",
    "        numeros.append(float(j))\n",
    "numeros = np.array(numeros)"
   ]
  },
  {
   "cell_type": "code",
   "execution_count": null,
   "id": "b4ea1ed7-35be-4218-ac8d-9ac78d6f717b",
   "metadata": {},
   "outputs": [],
   "source": []
  },
  {
   "cell_type": "code",
   "execution_count": 44,
   "id": "c43d5456-a44a-4526-b1dc-f15d1c57be2f",
   "metadata": {},
   "outputs": [],
   "source": [
    "#ESTA ES LA BUENA!!!!\n",
    "\n",
    "datos = [] # palabaras\n",
    "X = []  # datos numericos columna izquierda\n",
    "Y = []  # datos numericos columna derecha\n",
    "\n",
    "entrada = open(\"datos.dat\", \"r\")    # esto es un buffer\n",
    "for linea in entrada:\n",
    "    datos.append(linea.split())\n",
    "\n",
    "for elemento in datos:\n",
    "    X.append(float(elemento[0]))\n",
    "    Y.append(float(elemento[1]))\n",
    "        \n",
    "X = np.array(X)\n",
    "Y = np.array(Y)"
   ]
  },
  {
   "cell_type": "code",
   "execution_count": 46,
   "id": "610f278f-ebfb-4241-aec4-4b4d3ad495bd",
   "metadata": {},
   "outputs": [],
   "source": [
    "import pandas as pd"
   ]
  },
  {
   "cell_type": "code",
   "execution_count": 88,
   "id": "79c8c417-bc98-4aa7-8811-601465b1b84a",
   "metadata": {},
   "outputs": [],
   "source": [
    "#AHORA CON PANDAS!!!!\n",
    "\n",
    "# datos = pd.read_csv(\"datos.dat\")\n",
    "# datos = pd.read_csv(\"datos.dat\", sep='\\t')\n",
    "# datos = pd.read_csv(\"datos.dat\", sep='\\t', header = None)\n",
    "datos = pd.read_csv(\"datos.dat\", sep='\\t', header = None, dtype='float')\n",
    "\n",
    "datos.columns = [\"X\",\"Y\"]\n",
    "X = datos[\"X\"].values\n",
    "Y = datos[\"Y\"].values\n"
   ]
  },
  {
   "cell_type": "code",
   "execution_count": 104,
   "id": "78bc2748-7e08-4175-a6c2-461b72f80d6c",
   "metadata": {},
   "outputs": [],
   "source": []
  },
  {
   "cell_type": "code",
   "execution_count": 106,
   "id": "805767a5-43f6-4fa7-9981-919381633029",
   "metadata": {},
   "outputs": [],
   "source": [
    "datosX = open(\"datosX.txt\",'w')\n",
    "\n",
    "datosX.write(\"hola mundo\\n\")\n",
    "\n",
    "for x in X:\n",
    "    datosX.write(\"%g\\n\" % x)\n",
    "datosX.close()"
   ]
  },
  {
   "cell_type": "code",
   "execution_count": null,
   "id": "01abdd9a-0dd9-458a-a90f-f68698ac4b99",
   "metadata": {},
   "outputs": [],
   "source": []
  },
  {
   "cell_type": "code",
   "execution_count": 111,
   "id": "4a807885-0b76-4cf0-b353-180c7e3c1f6f",
   "metadata": {},
   "outputs": [],
   "source": [
    "datosCompletos = open(\"datosXY.txt\",'w')\n",
    "\n",
    "for x,y in zip(X,Y):\n",
    "    datosCompletos.write(\"%g\\t%g\\n\" % (x,y))\n",
    "\n"
   ]
  },
  {
   "cell_type": "code",
   "execution_count": 112,
   "id": "04dbe9cc-6312-4808-b3e8-4a5d7301afb6",
   "metadata": {},
   "outputs": [],
   "source": [
    "datosCompletos.close()"
   ]
  },
  {
   "cell_type": "code",
   "execution_count": 114,
   "id": "f7af2ee7-d65f-488d-90f7-eeec1bb55bd6",
   "metadata": {},
   "outputs": [],
   "source": [
    "# datosCompletos.write(\"hola mundo\\n\")"
   ]
  },
  {
   "cell_type": "code",
   "execution_count": null,
   "id": "7fec0092-a7b1-4cde-ae4e-0e195ef2bef0",
   "metadata": {},
   "outputs": [],
   "source": []
  },
  {
   "cell_type": "code",
   "execution_count": 115,
   "id": "fcb974cc-5032-4c02-b6c6-31fc00d7e7f8",
   "metadata": {},
   "outputs": [],
   "source": [
    "def fibonacci(n):\n",
    "    \n",
    "    output = []\n",
    "    \n",
    "    f1,f2 = 1,1\n",
    "\n",
    "    while f2 < n:\n",
    "        output.append(f2)        \n",
    "        f1,f2 = f2,f1+f2\n",
    "    \n",
    "    return output\n"
   ]
  },
  {
   "cell_type": "code",
   "execution_count": 119,
   "id": "58f67748-ee61-4e70-8fcd-9de05558ffd7",
   "metadata": {},
   "outputs": [
    {
     "data": {
      "text/plain": [
       "[1, 2, 3, 5, 8, 13, 21, 34, 55, 89]"
      ]
     },
     "execution_count": 119,
     "metadata": {},
     "output_type": "execute_result"
    }
   ],
   "source": [
    "fibonacci(100)"
   ]
  },
  {
   "cell_type": "code",
   "execution_count": null,
   "id": "fc69e54c-3829-4b1c-98d6-a6afc6eb5f32",
   "metadata": {},
   "outputs": [],
   "source": []
  },
  {
   "cell_type": "code",
   "execution_count": 124,
   "id": "d1ef6ca3-06ed-4ccb-b7d8-06d8330c10bf",
   "metadata": {},
   "outputs": [],
   "source": [
    "fibo = fibonacci(10000)\n",
    "\n",
    "outputBuff = open(\"fibonacci.dat\", \"w\")\n",
    "\n",
    "for n in fibo:\n",
    "    # outputBuff.write(\"%d \\n\" % n)\n",
    "    outputBuff.write(\"%f \\n\" % n)\n",
    "\n",
    "outputBuff.close()"
   ]
  },
  {
   "cell_type": "code",
   "execution_count": 125,
   "id": "fbe5ea26-8209-4836-998d-ace264d3c1f7",
   "metadata": {},
   "outputs": [
    {
     "data": {
      "text/plain": [
       "[1,\n",
       " 2,\n",
       " 3,\n",
       " 5,\n",
       " 8,\n",
       " 13,\n",
       " 21,\n",
       " 34,\n",
       " 55,\n",
       " 89,\n",
       " 144,\n",
       " 233,\n",
       " 377,\n",
       " 610,\n",
       " 987,\n",
       " 1597,\n",
       " 2584,\n",
       " 4181,\n",
       " 6765]"
      ]
     },
     "execution_count": 125,
     "metadata": {},
     "output_type": "execute_result"
    }
   ],
   "source": [
    "len(fibo)\n",
    "fibo"
   ]
  },
  {
   "cell_type": "code",
   "execution_count": 129,
   "id": "a02daab2-29b5-4e4c-b744-9f775cebb802",
   "metadata": {},
   "outputs": [],
   "source": [
    "fibo2 = fibonacci(1000)\n",
    "\n",
    "with open(\"fibonacci2.dat\", 'a') as out:\n",
    "    for n in fibo2:\n",
    "        out.write(str(n) + '\\n')"
   ]
  },
  {
   "cell_type": "code",
   "execution_count": 132,
   "id": "5d25c16b-b9e9-4dfc-9251-225a6aae6830",
   "metadata": {},
   "outputs": [
    {
     "data": {
      "text/html": [
       "<div>\n",
       "<style scoped>\n",
       "    .dataframe tbody tr th:only-of-type {\n",
       "        vertical-align: middle;\n",
       "    }\n",
       "\n",
       "    .dataframe tbody tr th {\n",
       "        vertical-align: top;\n",
       "    }\n",
       "\n",
       "    .dataframe thead th {\n",
       "        text-align: right;\n",
       "    }\n",
       "</style>\n",
       "<table border=\"1\" class=\"dataframe\">\n",
       "  <thead>\n",
       "    <tr style=\"text-align: right;\">\n",
       "      <th></th>\n",
       "      <th>X</th>\n",
       "      <th>Y</th>\n",
       "    </tr>\n",
       "  </thead>\n",
       "  <tbody>\n",
       "    <tr>\n",
       "      <th>0</th>\n",
       "      <td>0.0</td>\n",
       "      <td>8.0</td>\n",
       "    </tr>\n",
       "    <tr>\n",
       "      <th>1</th>\n",
       "      <td>1.0</td>\n",
       "      <td>23.0</td>\n",
       "    </tr>\n",
       "    <tr>\n",
       "      <th>2</th>\n",
       "      <td>2.0</td>\n",
       "      <td>48.0</td>\n",
       "    </tr>\n",
       "    <tr>\n",
       "      <th>3</th>\n",
       "      <td>3.0</td>\n",
       "      <td>83.0</td>\n",
       "    </tr>\n",
       "    <tr>\n",
       "      <th>4</th>\n",
       "      <td>4.0</td>\n",
       "      <td>128.0</td>\n",
       "    </tr>\n",
       "    <tr>\n",
       "      <th>...</th>\n",
       "      <td>...</td>\n",
       "      <td>...</td>\n",
       "    </tr>\n",
       "    <tr>\n",
       "      <th>95</th>\n",
       "      <td>95.0</td>\n",
       "      <td>46083.0</td>\n",
       "    </tr>\n",
       "    <tr>\n",
       "      <th>96</th>\n",
       "      <td>96.0</td>\n",
       "      <td>47048.0</td>\n",
       "    </tr>\n",
       "    <tr>\n",
       "      <th>97</th>\n",
       "      <td>97.0</td>\n",
       "      <td>48023.0</td>\n",
       "    </tr>\n",
       "    <tr>\n",
       "      <th>98</th>\n",
       "      <td>98.0</td>\n",
       "      <td>49008.0</td>\n",
       "    </tr>\n",
       "    <tr>\n",
       "      <th>99</th>\n",
       "      <td>99.0</td>\n",
       "      <td>50003.0</td>\n",
       "    </tr>\n",
       "  </tbody>\n",
       "</table>\n",
       "<p>100 rows × 2 columns</p>\n",
       "</div>"
      ],
      "text/plain": [
       "       X        Y\n",
       "0    0.0      8.0\n",
       "1    1.0     23.0\n",
       "2    2.0     48.0\n",
       "3    3.0     83.0\n",
       "4    4.0    128.0\n",
       "..   ...      ...\n",
       "95  95.0  46083.0\n",
       "96  96.0  47048.0\n",
       "97  97.0  48023.0\n",
       "98  98.0  49008.0\n",
       "99  99.0  50003.0\n",
       "\n",
       "[100 rows x 2 columns]"
      ]
     },
     "execution_count": 132,
     "metadata": {},
     "output_type": "execute_result"
    }
   ],
   "source": [
    "datos"
   ]
  },
  {
   "cell_type": "code",
   "execution_count": 131,
   "id": "fd576c15-bdff-4126-b41b-b3229c05fb79",
   "metadata": {},
   "outputs": [],
   "source": [
    "datos.to_csv(\"DataPandas.txt\")"
   ]
  },
  {
   "cell_type": "code",
   "execution_count": null,
   "id": "4c3e81ef-15ab-4a4f-b9f4-fd8d136a48ec",
   "metadata": {},
   "outputs": [],
   "source": []
  },
  {
   "cell_type": "code",
   "execution_count": 134,
   "id": "d857aaef-e139-4db3-971d-cb426dd682c2",
   "metadata": {},
   "outputs": [
    {
     "ename": "UnicodeDecodeError",
     "evalue": "'utf-8' codec can't decode byte 0xa1 in position 11: invalid start byte",
     "output_type": "error",
     "traceback": [
      "\u001b[0;31m---------------------------------------------------------------------------\u001b[0m",
      "\u001b[0;31mUnicodeDecodeError\u001b[0m                        Traceback (most recent call last)",
      "Cell \u001b[0;32mIn[134], line 9\u001b[0m\n\u001b[1;32m      6\u001b[0m Z \u001b[38;5;241m=\u001b[39m []  \n\u001b[1;32m      8\u001b[0m entrada \u001b[38;5;241m=\u001b[39m \u001b[38;5;28mopen\u001b[39m(\u001b[38;5;124m\"\u001b[39m\u001b[38;5;124mDataPandas3.ods\u001b[39m\u001b[38;5;124m\"\u001b[39m, \u001b[38;5;124m\"\u001b[39m\u001b[38;5;124mr\u001b[39m\u001b[38;5;124m\"\u001b[39m)    \u001b[38;5;66;03m# esto es un buffer\u001b[39;00m\n\u001b[0;32m----> 9\u001b[0m \u001b[38;5;28;43;01mfor\u001b[39;49;00m\u001b[43m \u001b[49m\u001b[43mlinea\u001b[49m\u001b[43m \u001b[49m\u001b[38;5;129;43;01min\u001b[39;49;00m\u001b[43m \u001b[49m\u001b[43mentrada\u001b[49m\u001b[43m:\u001b[49m\n\u001b[1;32m     10\u001b[0m \u001b[43m    \u001b[49m\u001b[43mdatos\u001b[49m\u001b[38;5;241;43m.\u001b[39;49m\u001b[43mappend\u001b[49m\u001b[43m(\u001b[49m\u001b[43mlinea\u001b[49m\u001b[38;5;241;43m.\u001b[39;49m\u001b[43msplit\u001b[49m\u001b[43m(\u001b[49m\u001b[43m)\u001b[49m\u001b[43m)\u001b[49m\n\u001b[1;32m     12\u001b[0m \u001b[38;5;28;01mfor\u001b[39;00m elemento \u001b[38;5;129;01min\u001b[39;00m datos:\n",
      "File \u001b[0;32m<frozen codecs>:322\u001b[0m, in \u001b[0;36mdecode\u001b[0;34m(self, input, final)\u001b[0m\n",
      "\u001b[0;31mUnicodeDecodeError\u001b[0m: 'utf-8' codec can't decode byte 0xa1 in position 11: invalid start byte"
     ]
    }
   ],
   "source": [
    "#Abriendo un Excel!!!!\n",
    "\n",
    "datos = [] # palabras\n",
    "X = []  # datos numericos columna izquierda\n",
    "Y = []  # datos numericos columna derecha\n",
    "Z = []  \n",
    "\n",
    "entrada = open(\"DataPandas3.ods\", \"r\")    # esto es un buffer\n",
    "for linea in entrada:\n",
    "    datos.append(linea.split())\n",
    "\n",
    "for elemento in datos:\n",
    "    X.append(float(elemento[0]))\n",
    "    Y.append(float(elemento[1]))\n",
    "    Z.append(float(elemento[2]))\n",
    "        \n",
    "X = np.array(X)\n",
    "Y = np.array(Y)\n",
    "Z = np.array(Z)"
   ]
  },
  {
   "cell_type": "code",
   "execution_count": null,
   "id": "339c5a69-b502-4b8f-9b78-61089cee5bbf",
   "metadata": {},
   "outputs": [],
   "source": []
  }
 ],
 "metadata": {
  "kernelspec": {
   "display_name": "Python 3 (ipykernel)",
   "language": "python",
   "name": "python3"
  },
  "language_info": {
   "codemirror_mode": {
    "name": "ipython",
    "version": 3
   },
   "file_extension": ".py",
   "mimetype": "text/x-python",
   "name": "python",
   "nbconvert_exporter": "python",
   "pygments_lexer": "ipython3",
   "version": "3.12.3"
  }
 },
 "nbformat": 4,
 "nbformat_minor": 5
}
